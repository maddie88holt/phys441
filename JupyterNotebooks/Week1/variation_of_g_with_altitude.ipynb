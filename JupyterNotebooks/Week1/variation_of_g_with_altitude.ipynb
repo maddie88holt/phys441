{
 "cells": [
  {
   "cell_type": "markdown",
   "source": [
    "This script is written to get atmospheric data (pressure, temperature, etc., as a function of altitude, from a local data file. The data is then plotted, and fit with a user-defined function"
   ],
   "metadata": {
    "collapsed": false
   },
   "id": "9ff80d29435839bd"
  },
  {
   "cell_type": "code",
   "execution_count": null,
   "id": "initial_id",
   "metadata": {
    "collapsed": true
   },
   "outputs": [],
   "source": [
    "import numpy as np\n",
    "import matplotlib.pyplot as plt\n",
    "\n",
    "use_errors = False\n",
    "fit_type = 1"
   ]
  },
  {
   "cell_type": "code",
   "execution_count": null,
   "outputs": [],
   "source": [
    "if fit_type == 1:\n",
    "    def fitfunction(x,a,b):\n",
    "        return a*np.exp(b*np.array(x))\n",
    "else:\n",
    "    def fitfunction(x,a,b,c):\n",
    "        return a*np.exp(b*np.array(x)+c*np.power(np.array(x),1.5))"
   ],
   "metadata": {
    "collapsed": false
   },
   "id": "65c601c2f8b4bd7d"
  },
  {
   "cell_type": "code",
   "execution_count": null,
   "outputs": [],
   "source": [
    "altitude = []\n",
    "temp = []\n",
    "gravity = []\n",
    "pressure = []\n",
    "density = []\n",
    "viscosity = []"
   ],
   "metadata": {
    "collapsed": false
   },
   "id": "d03da5bbdb8899cf"
  },
  {
   "cell_type": "code",
   "execution_count": null,
   "outputs": [],
   "source": [
    "npoints = 0\n",
    "with open('density.txt') as f:\n",
    "    for line in f:\n",
    "        npoints=npoints+1\n",
    "        data = line.split()\n",
    "        altitude.append(float(data[0]))\n",
    "        temp.append(float(data[1]))\n",
    "        gravity.append(float(data[2]))\n",
    "        pressure.append(float(data[3]))\n",
    "        density.append(float(data[4]))\n",
    "        viscosity.append(float(data[5]))\n",
    "        "
   ],
   "metadata": {
    "collapsed": false
   },
   "id": "eb015848242039e9"
  },
  {
   "cell_type": "code",
   "execution_count": null,
   "outputs": [],
   "source": [],
   "metadata": {
    "collapsed": false
   },
   "id": "ae8370acc9ab9ae1"
  }
 ],
 "metadata": {
  "kernelspec": {
   "display_name": "Python 3",
   "language": "python",
   "name": "python3"
  },
  "language_info": {
   "codemirror_mode": {
    "name": "ipython",
    "version": 2
   },
   "file_extension": ".py",
   "mimetype": "text/x-python",
   "name": "python",
   "nbconvert_exporter": "python",
   "pygments_lexer": "ipython2",
   "version": "2.7.6"
  }
 },
 "nbformat": 4,
 "nbformat_minor": 5
}
