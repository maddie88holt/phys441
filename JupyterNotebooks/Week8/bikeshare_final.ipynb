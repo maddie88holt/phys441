{
 "cells": [
  {
   "cell_type": "markdown",
   "id": "victorian-latitude",
   "metadata": {},
   "source": [
    "# Bike Share System"
   ]
  },
  {
   "cell_type": "markdown",
   "id": "imported-table",
   "metadata": {
    "tags": []
   },
   "source": [
    "*Modeling and Simulation in Python*\n",
    "\n",
    "Copyright 2021 Allen Downey\n",
    "\n",
    "License: [Creative Commons Attribution-NonCommercial-ShareAlike 4.0 International](https://creativecommons.org/licenses/by-nc-sa/4.0/)"
   ]
  },
  {
   "cell_type": "code",
   "execution_count": 1,
   "id": "electoral-turkey",
   "metadata": {
    "tags": [],
    "ExecuteTime": {
     "end_time": "2023-11-09T00:32:21.457349Z",
     "start_time": "2023-11-09T00:32:16.459385Z"
    }
   },
   "outputs": [],
   "source": [
    "# import functions from modsim\n",
    "from modsim import *"
   ]
  },
  {
   "cell_type": "code",
   "execution_count": 2,
   "id": "formal-context",
   "metadata": {
    "tags": [],
    "ExecuteTime": {
     "end_time": "2023-11-09T00:32:21.471787Z",
     "start_time": "2023-11-09T00:32:21.463832Z"
    }
   },
   "outputs": [],
   "source": [
    "def step(state, p1, p2):\n",
    "    \"\"\"Simulate one time step.\n",
    "    \n",
    "    state: bikeshare State object\n",
    "    p1: probability of an Olin->Wellesley ride\n",
    "    p2: probability of a Wellesley->Olin ride\n",
    "    \"\"\"\n",
    "    if flip(p1):\n",
    "        bike_to_wellesley(state)\n",
    "    \n",
    "    if flip(p2):\n",
    "        bike_to_olin(state)\n",
    "        \n",
    "def bike_to_olin(state):\n",
    "    \"\"\"Move one bike from Wellesley to Olin.\n",
    "    \n",
    "    state: bikeshare State object\n",
    "    \"\"\"\n",
    "    if state.wellesley == 0:\n",
    "        state.wellesley_empty += 1\n",
    "        return\n",
    "    state.wellesley -= 1\n",
    "    state.olin += 1\n",
    "    \n",
    "def bike_to_wellesley(state):\n",
    "    \"\"\"Move one bike from Olin to Wellesley.\n",
    "    \n",
    "    state: bikeshare State object\n",
    "    \"\"\"\n",
    "    \n",
    "    if state.olin == 0:\n",
    "        state.olin_empty += 1\n",
    "        return\n",
    "    state.olin -= 1\n",
    "    state.wellesley += 1"
   ]
  },
  {
   "cell_type": "code",
   "execution_count": 3,
   "id": "progressive-typing",
   "metadata": {
    "tags": [],
    "ExecuteTime": {
     "end_time": "2023-11-09T00:32:21.518991Z",
     "start_time": "2023-11-09T00:32:21.470133Z"
    }
   },
   "outputs": [],
   "source": [
    "def run_simulation(state, p1, p2, num_steps, do_plot=True):\n",
    "    \"\"\"Simulate the given number of time steps.\n",
    "    \n",
    "    state: State object\n",
    "    p1: probability of an Olin->Wellesley customer arrival\n",
    "    p2: probability of a Wellesley->Olin customer arrival\n",
    "    num_steps: number of time steps\n",
    "    \"\"\"\n",
    "    results_olin = TimeSeries()\n",
    "    results_olin[0] = state.olin\n",
    "    results_wellesley = TimeSeries()\n",
    "    results_wellesley[0] = state.wellesley\n",
    "    results_olin_unsatisfied = TimeSeries()\n",
    "    results_olin_unsatisfied[0] = state.olin_empty\n",
    "    results_wellesley_unsatisfied = TimeSeries()\n",
    "    results_wellesley_unsatisfied[0] = state.wellesley_empty\n",
    "    \n",
    "    for i in range(num_steps):\n",
    "        step(state, p1, p2)\n",
    "        results_olin[i+1] = state.olin\n",
    "        results_wellesley[i+1] = state.wellesley\n",
    "        results_olin_unsatisfied[i+1] = state.olin_empty\n",
    "        results_wellesley_unsatisfied[i+1] = state.wellesley_empty\n",
    "        \n",
    "    if (do_plot):\n",
    "        fig, ax = plt.subplots(1,2,figsize=(12,6))\n",
    "        ax[0].plot(results_olin, label='Olin')\n",
    "        ax[0].plot(results_wellesley, label='Wellesley')\n",
    "        ax[0].set_xlabel('Time step (min)')\n",
    "        ax[0].set_ylabel('Number of bikes')\n",
    "        ax[0].legend()\n",
    "        ax[1].plot(results_olin_unsatisfied, label='Olin')\n",
    "        ax[1].plot(results_wellesley_unsatisfied, label='Wellesley')\n",
    "        ax[1].set_xlabel('Time step (min)')\n",
    "        ax[1].set_ylabel('Number of unsatisfied customers')\n",
    "        ax[1].legend()\n",
    "        plt.show()\n",
    "    \n",
    "    return results_olin_unsatisfied[num_steps-1] + results_wellesley_unsatisfied[num_steps-1]"
   ]
  },
  {
   "cell_type": "code",
   "execution_count": 4,
   "outputs": [
    {
     "name": "stdout",
     "output_type": "stream",
     "text": [
      "0 12\n",
      "Average unsatisfied customers:  4.11\n",
      "1 11\n",
      "Average unsatisfied customers:  3.35\n",
      "2 10\n",
      "Average unsatisfied customers:  3.14\n",
      "3 9\n",
      "Average unsatisfied customers:  4.08\n",
      "4 8\n",
      "Average unsatisfied customers:  4.19\n",
      "5 7\n",
      "Average unsatisfied customers:  5.46\n",
      "6 6\n",
      "Average unsatisfied customers:  5.69\n",
      "7 5\n",
      "Average unsatisfied customers:  6.19\n",
      "8 4\n",
      "Average unsatisfied customers:  6.92\n",
      "9 3\n",
      "Average unsatisfied customers:  8.33\n",
      "10 2\n",
      "Average unsatisfied customers:  9.76\n",
      "11 1\n",
      "Average unsatisfied customers:  10.45\n",
      "12 0\n",
      "Average unsatisfied customers:  10.63\n"
     ]
    }
   ],
   "source": [
    "p_olin_to_wellesley = 0.3\n",
    "p_wellesley_to_olin = 0.2\n",
    "\n",
    "N_slots = 12\n",
    "\n",
    "nstart = []\n",
    "tu_avg = []\n",
    "\n",
    "num_sims = 100\n",
    "\n",
    "for N_start_olin in range(N_slots+1):\n",
    "    nstart.append(N_start_olin)\n",
    "    N_start_wellesley = N_slots - N_start_olin\n",
    "\n",
    "    print(N_start_olin, N_start_wellesley)\n",
    "\n",
    "    tu_sum = 0\n",
    "    \n",
    "    for j in range(num_sims):\n",
    "        bikeshare = State(olin=N_start_olin, wellesley=N_start_wellesley,\n",
    "                  olin_empty=0, wellesley_empty=0)\n",
    "        do_plot = False\n",
    "        total_unsatisfied = run_simulation(bikeshare, p_wellesley_to_olin, p_olin_to_wellesley, 100, do_plot)\n",
    "\n",
    "        #print(\"Total unsatisfied customers: \", j, total_unsatisfied)\n",
    "        tu_sum += total_unsatisfied\n",
    "    \n",
    "    print(\"Average unsatisfied customers: \", tu_sum/(1.0*num_sims))\n",
    "    tu_avg.append(tu_sum/(1.0*num_sims))\n",
    "    \n"
   ],
   "metadata": {
    "collapsed": false,
    "ExecuteTime": {
     "end_time": "2023-11-09T00:35:48.388491Z",
     "start_time": "2023-11-09T00:32:21.487397Z"
    }
   },
   "id": "760647dfb2ea5d9f"
  },
  {
   "cell_type": "code",
   "execution_count": 5,
   "outputs": [
    {
     "data": {
      "text/plain": "<matplotlib.legend.Legend at 0x7fbbbf799390>"
     },
     "execution_count": 5,
     "metadata": {},
     "output_type": "execute_result"
    },
    {
     "data": {
      "text/plain": "<Figure size 600x600 with 1 Axes>",
      "image/png": "[encoded data removed]"
     },
     "metadata": {},
     "output_type": "display_data"
    }
   ],
   "source": [
    "tu_avg_error = 0.1*np.array(tu_avg)\n",
    "\n",
    "fig, ax = plt.subplots(1,1,figsize=(8,8))\n",
    "ax.errorbar(nstart, tu_avg, tu_avg_error, label='Average unsatisfied customers')\n",
    "ax.set_xlabel('Number of starting bikes at Olin')\n",
    "ax.set_ylabel('Average number of unsatisfied customers')\n",
    "ax.legend()"
   ],
   "metadata": {
    "collapsed": false,
    "ExecuteTime": {
     "end_time": "2023-11-09T00:35:48.664577Z",
     "start_time": "2023-11-09T00:35:48.389473Z"
    }
   },
   "id": "5cdc15f29e14c6d1"
  },
  {
   "cell_type": "markdown",
   "source": [],
   "metadata": {
    "collapsed": false
   },
   "id": "8618a00660b30f10"
  },
  {
   "cell_type": "markdown",
   "id": "above-denial",
   "metadata": {},
   "source": [
    "## Modeling a Bike Share System\n",
    "\n",
    "Imagine a bike share system for students traveling between Olin College and Wellesley College, which are about three miles apart in eastern Massachusetts.\n",
    "\n",
    "Suppose the system contains 12 bikes and two bike racks, one at Olin and one at Wellesley, each with the capacity to hold 12 bikes.\n",
    "\n",
    "As students arrive, check out a bike, and ride to the other campus, the number of bikes in each location changes. In the simulation, we'll need to keep track of where the bikes are. To do that, we'll use a function called `State`, which is defined in the ModSim library."
   ]
  },
  {
   "cell_type": "code",
   "execution_count": 5,
   "id": "incorrect-comparison",
   "metadata": {
    "ExecuteTime": {
     "end_time": "2023-11-09T00:35:48.665885Z",
     "start_time": "2023-11-09T00:35:48.662233Z"
    }
   },
   "outputs": [],
   "source": []
  },
  {
   "cell_type": "markdown",
   "id": "living-wayne",
   "metadata": {},
   "source": []
  },
  {
   "cell_type": "code",
   "execution_count": 5,
   "id": "brief-diversity",
   "metadata": {
    "ExecuteTime": {
     "end_time": "2023-11-09T00:35:48.680702Z",
     "start_time": "2023-11-09T00:35:48.668443Z"
    }
   },
   "outputs": [],
   "source": []
  },
  {
   "cell_type": "markdown",
   "id": "intermediate-midwest",
   "metadata": {},
   "source": []
  },
  {
   "cell_type": "code",
   "execution_count": 5,
   "id": "designed-brazilian",
   "metadata": {
    "ExecuteTime": {
     "end_time": "2023-11-09T00:35:48.690618Z",
     "start_time": "2023-11-09T00:35:48.673028Z"
    }
   },
   "outputs": [],
   "source": []
  },
  {
   "cell_type": "markdown",
   "id": "phantom-oklahoma",
   "metadata": {},
   "source": []
  },
  {
   "cell_type": "code",
   "execution_count": 5,
   "id": "impaired-potter",
   "metadata": {
    "ExecuteTime": {
     "end_time": "2023-11-09T00:35:48.690942Z",
     "start_time": "2023-11-09T00:35:48.676318Z"
    }
   },
   "outputs": [],
   "source": []
  },
  {
   "cell_type": "markdown",
   "id": "vital-journal",
   "metadata": {},
   "source": []
  },
  {
   "cell_type": "markdown",
   "id": "fleet-beijing",
   "metadata": {
    "tags": []
   },
   "source": []
  },
  {
   "cell_type": "code",
   "execution_count": 5,
   "id": "basic-fabric",
   "metadata": {
    "tags": [],
    "ExecuteTime": {
     "end_time": "2023-11-09T00:35:48.691142Z",
     "start_time": "2023-11-09T00:35:48.681881Z"
    }
   },
   "outputs": [],
   "source": []
  },
  {
   "cell_type": "markdown",
   "id": "specified-definition",
   "metadata": {
    "tags": []
   },
   "source": []
  },
  {
   "cell_type": "markdown",
   "id": "delayed-ocean",
   "metadata": {},
   "source": []
  },
  {
   "cell_type": "code",
   "execution_count": 5,
   "id": "floppy-trainer",
   "metadata": {
    "ExecuteTime": {
     "end_time": "2023-11-09T00:35:48.818056Z",
     "start_time": "2023-11-09T00:35:48.686320Z"
    }
   },
   "outputs": [],
   "source": []
  },
  {
   "cell_type": "markdown",
   "id": "natural-gossip",
   "metadata": {},
   "source": []
  },
  {
   "cell_type": "code",
   "execution_count": 5,
   "id": "hungarian-bride",
   "metadata": {
    "ExecuteTime": {
     "end_time": "2023-11-09T00:35:48.819147Z",
     "start_time": "2023-11-09T00:35:48.690874Z"
    }
   },
   "outputs": [],
   "source": []
  },
  {
   "cell_type": "markdown",
   "id": "radical-mills",
   "metadata": {},
   "source": []
  },
  {
   "cell_type": "markdown",
   "id": "controversial-opportunity",
   "metadata": {},
   "source": []
  },
  {
   "cell_type": "code",
   "execution_count": 5,
   "id": "vertical-drawing",
   "metadata": {
    "ExecuteTime": {
     "end_time": "2023-11-09T00:35:48.872880Z",
     "start_time": "2023-11-09T00:35:48.706668Z"
    }
   },
   "outputs": [],
   "source": []
  },
  {
   "cell_type": "markdown",
   "id": "approximate-rolling",
   "metadata": {},
   "source": []
  },
  {
   "cell_type": "code",
   "execution_count": 5,
   "id": "significant-nutrition",
   "metadata": {
    "ExecuteTime": {
     "end_time": "2023-11-09T00:35:48.873420Z",
     "start_time": "2023-11-09T00:35:48.711218Z"
    }
   },
   "outputs": [],
   "source": []
  },
  {
   "cell_type": "markdown",
   "id": "generous-tracker",
   "metadata": {},
   "source": []
  },
  {
   "cell_type": "code",
   "execution_count": 5,
   "id": "moving-jurisdiction",
   "metadata": {
    "ExecuteTime": {
     "end_time": "2023-11-09T00:35:48.873886Z",
     "start_time": "2023-11-09T00:35:48.717313Z"
    }
   },
   "outputs": [],
   "source": []
  },
  {
   "cell_type": "markdown",
   "id": "meaningful-christmas",
   "metadata": {},
   "source": []
  },
  {
   "cell_type": "code",
   "execution_count": 5,
   "id": "proper-symposium",
   "metadata": {
    "ExecuteTime": {
     "end_time": "2023-11-09T00:35:48.874219Z",
     "start_time": "2023-11-09T00:35:48.724671Z"
    }
   },
   "outputs": [],
   "source": []
  },
  {
   "cell_type": "markdown",
   "id": "eleven-brook",
   "metadata": {},
   "source": []
  },
  {
   "cell_type": "code",
   "execution_count": 5,
   "id": "identical-yacht",
   "metadata": {
    "ExecuteTime": {
     "end_time": "2023-11-09T00:35:48.874392Z",
     "start_time": "2023-11-09T00:35:48.729976Z"
    }
   },
   "outputs": [],
   "source": []
  },
  {
   "cell_type": "markdown",
   "id": "premier-youth",
   "metadata": {},
   "source": []
  },
  {
   "cell_type": "markdown",
   "id": "brazilian-medicare",
   "metadata": {},
   "source": []
  },
  {
   "cell_type": "code",
   "execution_count": 5,
   "id": "heavy-patrol",
   "metadata": {
    "ExecuteTime": {
     "end_time": "2023-11-09T00:35:48.875336Z",
     "start_time": "2023-11-09T00:35:48.736325Z"
    }
   },
   "outputs": [],
   "source": []
  },
  {
   "cell_type": "markdown",
   "id": "ancient-projection",
   "metadata": {},
   "source": []
  },
  {
   "cell_type": "code",
   "execution_count": 5,
   "id": "french-preference",
   "metadata": {
    "ExecuteTime": {
     "end_time": "2023-11-09T00:35:48.915353Z",
     "start_time": "2023-11-09T00:35:48.742576Z"
    }
   },
   "outputs": [],
   "source": []
  },
  {
   "cell_type": "markdown",
   "id": "original-hollywood",
   "metadata": {},
   "source": []
  },
  {
   "cell_type": "code",
   "execution_count": 5,
   "id": "alternative-keyboard",
   "metadata": {
    "ExecuteTime": {
     "end_time": "2023-11-09T00:35:48.915659Z",
     "start_time": "2023-11-09T00:35:48.747078Z"
    }
   },
   "outputs": [],
   "source": []
  },
  {
   "cell_type": "markdown",
   "id": "described-produce",
   "metadata": {},
   "source": []
  },
  {
   "cell_type": "code",
   "execution_count": 5,
   "id": "robust-holly",
   "metadata": {
    "ExecuteTime": {
     "end_time": "2023-11-09T00:35:48.915834Z",
     "start_time": "2023-11-09T00:35:48.755664Z"
    }
   },
   "outputs": [],
   "source": []
  },
  {
   "cell_type": "markdown",
   "id": "vital-lender",
   "metadata": {},
   "source": []
  },
  {
   "cell_type": "code",
   "execution_count": 5,
   "id": "fifteen-atmosphere",
   "metadata": {
    "ExecuteTime": {
     "end_time": "2023-11-09T00:35:48.915988Z",
     "start_time": "2023-11-09T00:35:48.762441Z"
    }
   },
   "outputs": [],
   "source": []
  },
  {
   "cell_type": "markdown",
   "id": "requested-glasgow",
   "metadata": {},
   "source": []
  },
  {
   "cell_type": "code",
   "execution_count": 5,
   "id": "matched-narrow",
   "metadata": {
    "ExecuteTime": {
     "end_time": "2023-11-09T00:35:48.916135Z",
     "start_time": "2023-11-09T00:35:48.769587Z"
    }
   },
   "outputs": [],
   "source": []
  },
  {
   "cell_type": "markdown",
   "id": "sitting-semiconductor",
   "metadata": {},
   "source": []
  },
  {
   "cell_type": "markdown",
   "id": "enhanced-maintenance",
   "metadata": {},
   "source": []
  },
  {
   "cell_type": "code",
   "execution_count": 5,
   "id": "29c1f41a",
   "metadata": {
    "tags": [],
    "ExecuteTime": {
     "end_time": "2023-11-09T00:35:48.916282Z",
     "start_time": "2023-11-09T00:35:48.778829Z"
    }
   },
   "outputs": [],
   "source": []
  },
  {
   "cell_type": "code",
   "execution_count": 5,
   "id": "illegal-metropolitan",
   "metadata": {
    "ExecuteTime": {
     "end_time": "2023-11-09T00:35:48.916434Z",
     "start_time": "2023-11-09T00:35:48.790217Z"
    }
   },
   "outputs": [],
   "source": []
  },
  {
   "cell_type": "markdown",
   "id": "appropriate-funds",
   "metadata": {},
   "source": []
  },
  {
   "cell_type": "code",
   "execution_count": 5,
   "id": "excessive-murder",
   "metadata": {
    "ExecuteTime": {
     "end_time": "2023-11-09T00:35:48.927973Z",
     "start_time": "2023-11-09T00:35:48.805357Z"
    }
   },
   "outputs": [],
   "source": []
  },
  {
   "cell_type": "markdown",
   "id": "seventh-profile",
   "metadata": {},
   "source": []
  },
  {
   "cell_type": "code",
   "execution_count": 5,
   "id": "fundamental-nursing",
   "metadata": {
    "ExecuteTime": {
     "end_time": "2023-11-09T00:35:48.956719Z",
     "start_time": "2023-11-09T00:35:48.819947Z"
    }
   },
   "outputs": [],
   "source": [
    "  "
   ]
  },
  {
   "cell_type": "markdown",
   "id": "recovered-chemical",
   "metadata": {},
   "source": []
  },
  {
   "cell_type": "code",
   "execution_count": 5,
   "id": "twenty-health",
   "metadata": {
    "ExecuteTime": {
     "end_time": "2023-11-09T00:35:48.957016Z",
     "start_time": "2023-11-09T00:35:48.826053Z"
    }
   },
   "outputs": [],
   "source": []
  },
  {
   "cell_type": "markdown",
   "id": "difficult-construction",
   "metadata": {},
   "source": []
  },
  {
   "cell_type": "code",
   "execution_count": 5,
   "id": "played-character",
   "metadata": {
    "ExecuteTime": {
     "end_time": "2023-11-09T00:35:48.957176Z",
     "start_time": "2023-11-09T00:35:48.832361Z"
    }
   },
   "outputs": [],
   "source": []
  },
  {
   "cell_type": "markdown",
   "id": "standard-party",
   "metadata": {},
   "source": []
  },
  {
   "cell_type": "code",
   "execution_count": 5,
   "id": "ecological-colon",
   "metadata": {
    "ExecuteTime": {
     "end_time": "2023-11-09T00:35:49.017342Z",
     "start_time": "2023-11-09T00:35:48.838787Z"
    }
   },
   "outputs": [],
   "source": []
  },
  {
   "cell_type": "markdown",
   "id": "amateur-exposure",
   "metadata": {},
   "source": []
  },
  {
   "cell_type": "code",
   "execution_count": 5,
   "id": "mediterranean-german",
   "metadata": {
    "ExecuteTime": {
     "end_time": "2023-11-09T00:35:49.018407Z",
     "start_time": "2023-11-09T00:35:48.844814Z"
    }
   },
   "outputs": [],
   "source": []
  },
  {
   "cell_type": "markdown",
   "id": "sought-mobile",
   "metadata": {},
   "source": []
  },
  {
   "cell_type": "markdown",
   "id": "organic-proportion",
   "metadata": {},
   "source": []
  },
  {
   "cell_type": "code",
   "execution_count": 5,
   "id": "hollywood-shopping",
   "metadata": {
    "ExecuteTime": {
     "end_time": "2023-11-09T00:35:49.019218Z",
     "start_time": "2023-11-09T00:35:48.851179Z"
    }
   },
   "outputs": [],
   "source": []
  },
  {
   "cell_type": "markdown",
   "id": "encouraging-arkansas",
   "metadata": {},
   "source": []
  },
  {
   "cell_type": "code",
   "execution_count": 5,
   "id": "buried-alert",
   "metadata": {
    "ExecuteTime": {
     "end_time": "2023-11-09T00:35:49.019501Z",
     "start_time": "2023-11-09T00:35:48.858079Z"
    }
   },
   "outputs": [],
   "source": []
  },
  {
   "cell_type": "markdown",
   "id": "aggregate-dynamics",
   "metadata": {},
   "source": []
  },
  {
   "cell_type": "code",
   "execution_count": 5,
   "id": "recognized-denmark",
   "metadata": {
    "ExecuteTime": {
     "end_time": "2023-11-09T00:35:49.019730Z",
     "start_time": "2023-11-09T00:35:48.865024Z"
    }
   },
   "outputs": [],
   "source": []
  },
  {
   "cell_type": "markdown",
   "id": "raised-museum",
   "metadata": {},
   "source": []
  },
  {
   "cell_type": "markdown",
   "id": "scenic-african",
   "metadata": {},
   "source": []
  },
  {
   "cell_type": "code",
   "execution_count": 5,
   "id": "polish-river",
   "metadata": {
    "ExecuteTime": {
     "end_time": "2023-11-09T00:35:49.048739Z",
     "start_time": "2023-11-09T00:35:48.872605Z"
    }
   },
   "outputs": [],
   "source": []
  },
  {
   "cell_type": "markdown",
   "id": "compatible-conspiracy",
   "metadata": {},
   "source": []
  },
  {
   "cell_type": "markdown",
   "id": "breeding-groove",
   "metadata": {},
   "source": []
  },
  {
   "cell_type": "code",
   "execution_count": 5,
   "outputs": [],
   "source": [],
   "metadata": {
    "collapsed": false,
    "ExecuteTime": {
     "end_time": "2023-11-09T00:35:49.059631Z",
     "start_time": "2023-11-09T00:35:48.877585Z"
    }
   },
   "id": "8f318e6f58ef96c"
  },
  {
   "cell_type": "code",
   "execution_count": 5,
   "id": "every-consultation",
   "metadata": {
    "ExecuteTime": {
     "end_time": "2023-11-09T00:35:49.059859Z",
     "start_time": "2023-11-09T00:35:48.882861Z"
    }
   },
   "outputs": [],
   "source": []
  },
  {
   "cell_type": "markdown",
   "id": "cross-sharp",
   "metadata": {},
   "source": []
  },
  {
   "cell_type": "code",
   "execution_count": 5,
   "id": "changing-planet",
   "metadata": {
    "ExecuteTime": {
     "end_time": "2023-11-09T00:35:49.059954Z",
     "start_time": "2023-11-09T00:35:48.888721Z"
    }
   },
   "outputs": [],
   "source": []
  },
  {
   "cell_type": "markdown",
   "id": "attractive-revision",
   "metadata": {},
   "source": []
  },
  {
   "cell_type": "code",
   "execution_count": 5,
   "id": "aquatic-richardson",
   "metadata": {
    "ExecuteTime": {
     "end_time": "2023-11-09T00:35:49.060048Z",
     "start_time": "2023-11-09T00:35:48.895271Z"
    }
   },
   "outputs": [],
   "source": []
  },
  {
   "cell_type": "markdown",
   "id": "searching-funeral",
   "metadata": {},
   "source": []
  },
  {
   "cell_type": "code",
   "execution_count": 5,
   "id": "english-titanium",
   "metadata": {
    "ExecuteTime": {
     "end_time": "2023-11-09T00:35:49.060141Z",
     "start_time": "2023-11-09T00:35:48.900063Z"
    }
   },
   "outputs": [],
   "source": []
  },
  {
   "cell_type": "markdown",
   "id": "prospective-joining",
   "metadata": {},
   "source": []
  },
  {
   "cell_type": "code",
   "execution_count": 5,
   "id": "indonesian-singing",
   "metadata": {
    "ExecuteTime": {
     "end_time": "2023-11-09T00:35:49.098983Z",
     "start_time": "2023-11-09T00:35:48.917339Z"
    }
   },
   "outputs": [],
   "source": []
  },
  {
   "cell_type": "markdown",
   "id": "small-encoding",
   "metadata": {},
   "source": []
  },
  {
   "cell_type": "markdown",
   "id": "following-contrary",
   "metadata": {},
   "source": []
  },
  {
   "cell_type": "code",
   "execution_count": 5,
   "id": "saved-hands",
   "metadata": {
    "ExecuteTime": {
     "end_time": "2023-11-09T00:35:49.105386Z",
     "start_time": "2023-11-09T00:35:48.923103Z"
    }
   },
   "outputs": [],
   "source": []
  },
  {
   "cell_type": "markdown",
   "id": "egyptian-korea",
   "metadata": {},
   "source": []
  },
  {
   "cell_type": "markdown",
   "id": "limited-interstate",
   "metadata": {},
   "source": []
  },
  {
   "cell_type": "markdown",
   "id": "fallen-surprise",
   "metadata": {},
   "source": [
    "\n"
   ]
  },
  {
   "cell_type": "markdown",
   "id": "capital-internship",
   "metadata": {},
   "source": []
  },
  {
   "cell_type": "code",
   "execution_count": 5,
   "id": "helpful-zambia",
   "metadata": {
    "ExecuteTime": {
     "end_time": "2023-11-09T00:35:49.105875Z",
     "start_time": "2023-11-09T00:35:48.932415Z"
    }
   },
   "outputs": [],
   "source": []
  },
  {
   "cell_type": "markdown",
   "id": "dirty-multiple",
   "metadata": {},
   "source": []
  },
  {
   "cell_type": "code",
   "execution_count": 5,
   "id": "beneficial-mainland",
   "metadata": {
    "ExecuteTime": {
     "end_time": "2023-11-09T00:35:49.106057Z",
     "start_time": "2023-11-09T00:35:48.945011Z"
    }
   },
   "outputs": [],
   "source": []
  },
  {
   "cell_type": "markdown",
   "id": "christian-madrid",
   "metadata": {},
   "source": [
    "\n"
   ]
  },
  {
   "cell_type": "code",
   "execution_count": 5,
   "id": "former-frost",
   "metadata": {
    "ExecuteTime": {
     "end_time": "2023-11-09T00:35:49.124164Z",
     "start_time": "2023-11-09T00:35:48.955897Z"
    }
   },
   "outputs": [],
   "source": []
  },
  {
   "cell_type": "code",
   "execution_count": 5,
   "id": "spare-honduras",
   "metadata": {
    "ExecuteTime": {
     "end_time": "2023-11-09T00:35:49.124366Z",
     "start_time": "2023-11-09T00:35:48.962596Z"
    }
   },
   "outputs": [],
   "source": []
  },
  {
   "cell_type": "markdown",
   "id": "instructional-finnish",
   "metadata": {},
   "source": [
    "## Under the Hood\n",
    "\n",
    "This section contains additional information about the functions we've used and pointers to their documentation.\n",
    "\n",
    "You don't need to know anything in this section, so if you are already feeling overwhelmed, you might want to skip it.\n",
    "But if you are curious, read on."
   ]
  },
  {
   "cell_type": "markdown",
   "id": "quick-citizen",
   "metadata": {},
   "source": [
    "`State` and `TimeSeries` objects are based on the `Series` object defined by the Pandas library.\n",
    "The documentation is at <https://pandas.pydata.org/pandas-docs/stable/reference/api/pandas.Series.html>.\n",
    "\n",
    "`Series` objects provide their own `plot` function, which is why we call it like this:\n",
    "\n",
    "```\n",
    "results.plot()\n",
    "```\n",
    "\n",
    "Instead of like this:\n",
    "\n",
    "```\n",
    "plot(results)\n",
    "```\n",
    "\n",
    "You can read the documentation of `Series.plot` at <https://pandas.pydata.org/pandas-docs/stable/reference/api/pandas.Series.plot.html>."
   ]
  },
  {
   "cell_type": "markdown",
   "id": "digital-stretch",
   "metadata": {},
   "source": [
    "`decorate` is based on Matplotlib, which is a widely used plotting library for Python.  Matplotlib provides separate functions for `title`, `xlabel`, and `ylabel`.\n",
    "`decorate` makes them a little easier to use.\n",
    "For the list of keyword arguments you can pass to `decorate`, see <https://matplotlib.org/3.2.2/api/axes_api.html?highlight=axes#module-matplotlib.axes>.\n",
    "\n",
    "The `flip` function uses NumPy's `random` function to generate a random number between 0 and 1, then returns `True` or `False` with the given probability.\n",
    "\n",
    "You can get the source code for `flip` (or any other function) by running the following cell."
   ]
  },
  {
   "cell_type": "code",
   "execution_count": 6,
   "id": "agricultural-midwest",
   "metadata": {
    "ExecuteTime": {
     "end_time": "2023-11-09T00:35:49.124644Z",
     "start_time": "2023-11-09T00:35:48.969674Z"
    }
   },
   "outputs": [
    {
     "name": "stdout",
     "output_type": "stream",
     "text": [
      "def flip(p=0.5):\n",
      "    \"\"\"Flips a coin with the given probability.\n",
      "\n",
      "    p: float 0-1\n",
      "\n",
      "    returns: boolean (True or False)\n",
      "    \"\"\"\n",
      "    return np.random.random() < p\n"
     ]
    }
   ],
   "source": [
    "source_code(flip)"
   ]
  },
  {
   "cell_type": "code",
   "execution_count": 6,
   "id": "junior-lindsay",
   "metadata": {
    "ExecuteTime": {
     "end_time": "2023-11-09T00:35:49.124735Z",
     "start_time": "2023-11-09T00:35:48.980261Z"
    }
   },
   "outputs": [],
   "source": []
  },
  {
   "cell_type": "code",
   "execution_count": 6,
   "outputs": [],
   "source": [],
   "metadata": {
    "collapsed": false,
    "ExecuteTime": {
     "end_time": "2023-11-09T00:35:49.124825Z",
     "start_time": "2023-11-09T00:35:48.988037Z"
    }
   },
   "id": "9c2ef8f0c1c32f7"
  }
 ],
 "metadata": {
  "celltoolbar": "Tags",
  "kernelspec": {
   "display_name": "Python 3 (ipykernel)",
   "language": "python",
   "name": "python3"
  },
  "language_info": {
   "codemirror_mode": {
    "name": "ipython",
    "version": 3
   },
   "file_extension": ".py",
   "mimetype": "text/x-python",
   "name": "python",
   "nbconvert_exporter": "python",
   "pygments_lexer": "ipython3",
   "version": "3.10.6"
  }
 },
 "nbformat": 4,
 "nbformat_minor": 5
}
